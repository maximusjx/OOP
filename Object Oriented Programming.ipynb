{
 "cells": [
  {
   "cell_type": "code",
   "execution_count": 5,
   "metadata": {},
   "outputs": [],
   "source": [
    "#we would be learning how to creeate and use classes within python and how objectorian concepts are \n",
    "# applied within the language\n",
    "#we would cover the basiccs of creating and instantiating classes, Inheritance class and instance variables\n",
    "#why should we use classes 1) they allow us to logically group our data and functions for reuse and build \n",
    "#upon if need be\n",
    "\n",
    "# IN ORDER TO LEAVE A CLASS EMPTY YOU USE pass\n",
    "class Employee:\n",
    "    pass\n",
    "    \n",
    "#this class as no attributes or methods"
   ]
  },
  {
   "cell_type": "code",
   "execution_count": 2,
   "metadata": {},
   "outputs": [
    {
     "name": "stdout",
     "output_type": "stream",
     "text": [
      "<__main__.Employee object at 0x000001F5CE7D8E20>\n",
      "<__main__.Employee object at 0x000001F5CE7D8DC0>\n"
     ]
    }
   ],
   "source": [
    "#creating unique instances of the employee class\n",
    "emp_1 = Employee()\n",
    "emp_2 = Employee()\n",
    "\n",
    "print(emp_1)\n",
    "print(emp_2)\n",
    "\n",
    "#difference between instance variable and class variable?"
   ]
  },
  {
   "cell_type": "code",
   "execution_count": 3,
   "metadata": {},
   "outputs": [
    {
     "name": "stdout",
     "output_type": "stream",
     "text": [
      "corey.john.com\n",
      "test.user@company.com\n"
     ]
    }
   ],
   "source": [
    "#creating instance variables for the Employee class\n",
    "#if i want employee 1 to have a first name and a last name\n",
    "emp_1.first = 'corey'\n",
    "emp_1.last = 'john'\n",
    "emp_1.email = 'corey.john.com'\n",
    "emp_1.pay = 50000\n",
    "\n",
    "emp_2.first = 'test'\n",
    "emp_2.last = 'user'\n",
    "emp_2.email = 'test.user@company.com'\n",
    "emp_2.pay = 60000\n",
    "\n",
    "print(emp_1.email)\n",
    "print(emp_2.email)"
   ]
  },
  {
   "cell_type": "code",
   "execution_count": 8,
   "metadata": {},
   "outputs": [
    {
     "name": "stdout",
     "output_type": "stream",
     "text": [
      "corey.john@company.com\n",
      "test.user@company.com\n"
     ]
    }
   ],
   "source": [
    "#instead of writing all the codes above we can write a shorter code to input all the information for emp\n",
    "class Employee:\n",
    "    \n",
    "    def __init__(self, first, last, pay):#after including self we can specify what other arguemennts we want to inclde like names etc\n",
    "        self.first = first\n",
    "        self.last = last\n",
    "        self.pay = pay\n",
    "        self.email = first + '.' + last + '@company.com'\n",
    "\n",
    "        \n",
    "emp_1 = Employee('corey', 'john', 50000)\n",
    "emp_2 = Employee('test', 'user', 60000)\n",
    "\n",
    "print(emp_1.email)\n",
    "print(emp_2.email)"
   ]
  },
  {
   "cell_type": "code",
   "execution_count": 9,
   "metadata": {},
   "outputs": [
    {
     "name": "stdout",
     "output_type": "stream",
     "text": [
      "corey john\n"
     ]
    }
   ],
   "source": [
    "#lets say i love the ability to print out the fullname\n",
    "print('{} {}'.format(emp_1.first, emp_1.last))"
   ]
  },
  {
   "cell_type": "code",
   "execution_count": 10,
   "metadata": {},
   "outputs": [
    {
     "name": "stdout",
     "output_type": "stream",
     "text": [
      "corey.john@company.com\n",
      "test.user@company.com\n",
      "test  user\n"
     ]
    }
   ],
   "source": [
    "class Employee:\n",
    "    \n",
    "    def __init__(self, first, last, pay):#after including self we can specify what other arguemennts we want to inclde like names etc\n",
    "        self.first = first\n",
    "        self.last = last\n",
    "        self.pay = pay\n",
    "        self.email = first + '.' + last + '@company.com'\n",
    "    def fullname(self):\n",
    "        return '{}  {}'.format(self.first, self.last)\n",
    "\n",
    "        \n",
    "emp_1 = Employee('corey', 'john', 50000)\n",
    "emp_2 = Employee('test', 'user', 60000)\n",
    "\n",
    "print(emp_1.email)\n",
    "print(emp_2.email)\n",
    "\n",
    "print(emp_2.fullname()) #fullname as a parenthesis ()  because its a method not an instance"
   ]
  },
  {
   "cell_type": "code",
   "execution_count": 9,
   "metadata": {},
   "outputs": [
    {
     "name": "stdout",
     "output_type": "stream",
     "text": [
      "corey  john\n"
     ]
    }
   ],
   "source": [
    "print(Employee.fullname(emp_1))"
   ]
  },
  {
   "cell_type": "code",
   "execution_count": 12,
   "metadata": {},
   "outputs": [
    {
     "name": "stdout",
     "output_type": "stream",
     "text": [
      "ECN373\n"
     ]
    }
   ],
   "source": [
    "class OAU:\n",
    "    def __init__(self, social_sciences, admin):\n",
    "        self.social_sciences = social_sciences\n",
    "        self.admin = admin\n",
    "course_1 = OAU('DSS101', 'ECN101')\n",
    "course_2 = OAU('SSE401', 'ECN373')\n",
    "\n",
    "print(course_2.admin)"
   ]
  },
  {
   "cell_type": "code",
   "execution_count": 14,
   "metadata": {},
   "outputs": [
    {
     "name": "stdout",
     "output_type": "stream",
     "text": [
      "50000\n",
      "54500\n"
     ]
    }
   ],
   "source": [
    "#CLASS VARIABLES ARE VARIABLES THAT ARE SHARED AMONG ALL INSTANCES OF A CLASS\n",
    "\n",
    "class Employee:\n",
    "    raise_amount= 1.09\n",
    "    \n",
    "    def __init__(self, first, last, pay):#after including self we can specify what other arguemennts we want to inclde like names etc\n",
    "        self.first = first\n",
    "        self.last = last\n",
    "        self.pay = pay\n",
    "        self.email = first + '.' + last + '@company.com'\n",
    "    def fullname(self):\n",
    "        return '{}  {}'.format(self.first, self.last)\n",
    "    def apply_raise(self):\n",
    "        self.pay = int(self.pay * Employee.raise_amount)\n",
    "        \n",
    "emp_1 = Employee('corey', 'schafer', 50000)\n",
    "emp_2 = Employee('Test', 'User', 60000)\n",
    "\n",
    "print(emp_1.pay)\n",
    "emp_1.apply_raise()\n",
    "print(emp_1.pay)"
   ]
  },
  {
   "cell_type": "code",
   "execution_count": 16,
   "metadata": {},
   "outputs": [
    {
     "name": "stdout",
     "output_type": "stream",
     "text": [
      "{'first': 'corey', 'last': 'schafer', 'pay': 52000, 'email': 'corey.schafer@company.com'}\n"
     ]
    }
   ],
   "source": [
    "print(emp_1.__dict__)"
   ]
  },
  {
   "cell_type": "code",
   "execution_count": 20,
   "metadata": {},
   "outputs": [
    {
     "name": "stdout",
     "output_type": "stream",
     "text": [
      "this is urikachu\n"
     ]
    }
   ],
   "source": [
    "print (\"this is \" + \"urikachu\")"
   ]
  },
  {
   "cell_type": "code",
   "execution_count": 21,
   "metadata": {},
   "outputs": [],
   "source": [
    "amount = 1.04"
   ]
  },
  {
   "cell_type": "code",
   "execution_count": 1,
   "metadata": {},
   "outputs": [],
   "source": [
    "#CLASS METHODS\n",
    "@classmethod\n",
    "def set_raise_amt(cls, amount):\n",
    "    pass"
   ]
  },
  {
   "cell_type": "code",
   "execution_count": 2,
   "metadata": {},
   "outputs": [],
   "source": [
    "@classmethod\n",
    "def set_raise_amt(cls, amount):\n",
    "    cls.raise_amt = amount"
   ]
  },
  {
   "cell_type": "code",
   "execution_count": null,
   "metadata": {},
   "outputs": [],
   "source": []
  },
  {
   "cell_type": "code",
   "execution_count": 25,
   "metadata": {
    "collapsed": true
   },
   "outputs": [
    {
     "ename": "TypeError",
     "evalue": "'staticmethod' object is not callable",
     "output_type": "error",
     "traceback": [
      "\u001b[1;31m---------------------------------------------------------------------------\u001b[0m",
      "\u001b[1;31mTypeError\u001b[0m                                 Traceback (most recent call last)",
      "\u001b[1;32m<ipython-input-25-2561794b51ee>\u001b[0m in \u001b[0;36m<module>\u001b[1;34m\u001b[0m\n\u001b[0;32m      8\u001b[0m \u001b[0mmy_date\u001b[0m \u001b[1;33m=\u001b[0m \u001b[0mdatetime\u001b[0m\u001b[1;33m.\u001b[0m\u001b[0mdate\u001b[0m\u001b[1;33m(\u001b[0m\u001b[1;36m2016\u001b[0m\u001b[1;33m,\u001b[0m \u001b[1;36m7\u001b[0m\u001b[1;33m,\u001b[0m \u001b[1;36m10\u001b[0m\u001b[1;33m)\u001b[0m\u001b[1;33m\u001b[0m\u001b[1;33m\u001b[0m\u001b[0m\n\u001b[0;32m      9\u001b[0m \u001b[1;33m\u001b[0m\u001b[0m\n\u001b[1;32m---> 10\u001b[1;33m \u001b[0mprint\u001b[0m\u001b[1;33m(\u001b[0m\u001b[0mis_workday\u001b[0m\u001b[1;33m(\u001b[0m\u001b[0mmy_date\u001b[0m\u001b[1;33m)\u001b[0m\u001b[1;33m)\u001b[0m\u001b[1;33m\u001b[0m\u001b[1;33m\u001b[0m\u001b[0m\n\u001b[0m",
      "\u001b[1;31mTypeError\u001b[0m: 'staticmethod' object is not callable"
     ]
    }
   ],
   "source": [
    "@staticmethod\n",
    "def is_workday(day):\n",
    "    if day.workday() == 5 or day.workday() == 6:\n",
    "        return False\n",
    "    return True\n",
    "\n",
    "import datetime\n",
    "my_date = datetime.date(2016, 7, 10)\n",
    "\n",
    "print(is_workday(my_date))"
   ]
  },
  {
   "cell_type": "code",
   "execution_count": null,
   "metadata": {},
   "outputs": [],
   "source": []
  },
  {
   "cell_type": "code",
   "execution_count": null,
   "metadata": {},
   "outputs": [],
   "source": []
  }
 ],
 "metadata": {
  "kernelspec": {
   "display_name": "Python 3",
   "language": "python",
   "name": "python3"
  },
  "language_info": {
   "codemirror_mode": {
    "name": "ipython",
    "version": 3
   },
   "file_extension": ".py",
   "mimetype": "text/x-python",
   "name": "python",
   "nbconvert_exporter": "python",
   "pygments_lexer": "ipython3",
   "version": "3.8.3"
  }
 },
 "nbformat": 4,
 "nbformat_minor": 4
}
